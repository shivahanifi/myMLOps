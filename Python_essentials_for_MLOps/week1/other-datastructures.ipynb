{
  "cells": [
    {
      "cell_type": "markdown",
      "source": [
        "Use all the new skills you've learned for iterating over data structures like dictionaries and lists to practice in this notebook."
      ],
      "metadata": {
        "id": "g58N8MaT4GXX"
      }
    },
    {
      "cell_type": "markdown",
      "source": [
        "# Data structures\n",
        "The trick is that it is all about state!"
      ],
      "metadata": {
        "id": "H4J3RLKvHwux"
      }
    },
    {
      "cell_type": "markdown",
      "source": [
        "## Lists\n",
        "Lists are easy to encounter and easy to abuse. Lists hold individual items, keeping a specific order. To access them, treat the order like an index. The index starts at `0,` and it continues incrementally every time a new item gets added. A loop (sometimes referred to as *\"for loop\"*) is the most common operation you can encounter."
      ],
      "metadata": {
        "id": "d557O7tLIRgT"
      }
    },
    {
      "cell_type": "code",
      "execution_count": 1,
      "source": [
        "directories = ['Documents', 'Music', 'Desktop', 'Downloads', 'Pictures', 'Movies']\n",
        "for directory in directories:\n",
        "  print(directory)"
      ],
      "outputs": [
        {
          "output_type": "stream",
          "name": "stdout",
          "text": [
            "Documents\n",
            "Music\n",
            "Desktop\n",
            "Downloads\n",
            "Pictures\n",
            "Movies\n"
          ]
        }
      ],
      "metadata": {
        "colab": {
          "base_uri": "https://localhost:8080/"
        },
        "id": "nNeTAGeeIgTw",
        "outputId": "c73a4123-6593-4212-9949-73543b74332e"
      }
    },
    {
      "cell_type": "code",
      "execution_count": 2,
      "source": [
        "import os\n",
        "for item in os.listdir('sample_data'):\n",
        "  if os.path.isdir(item):\n",
        "    print(\"This is a directory {0}\".format(item))\n",
        "  else:\n",
        "    print(\"This is a file: {0}\".format(item))"
      ],
      "outputs": [
        {
          "output_type": "error",
          "ename": "FileNotFoundError",
          "evalue": "[Errno 2] No such file or directory: 'sample_data'",
          "traceback": [
            "\u001b[0;31m---------------------------------------------------------------------------\u001b[0m",
            "\u001b[0;31mFileNotFoundError\u001b[0m                         Traceback (most recent call last)",
            "Cell \u001b[0;32mIn[2], line 2\u001b[0m\n\u001b[1;32m      1\u001b[0m \u001b[38;5;28;01mimport\u001b[39;00m \u001b[38;5;21;01mos\u001b[39;00m\n\u001b[0;32m----> 2\u001b[0m \u001b[38;5;28;01mfor\u001b[39;00m item \u001b[38;5;129;01min\u001b[39;00m \u001b[43mos\u001b[49m\u001b[38;5;241;43m.\u001b[39;49m\u001b[43mlistdir\u001b[49m\u001b[43m(\u001b[49m\u001b[38;5;124;43m'\u001b[39;49m\u001b[38;5;124;43msample_data\u001b[39;49m\u001b[38;5;124;43m'\u001b[39;49m\u001b[43m)\u001b[49m:\n\u001b[1;32m      3\u001b[0m   \u001b[38;5;28;01mif\u001b[39;00m os\u001b[38;5;241m.\u001b[39mpath\u001b[38;5;241m.\u001b[39misdir(item):\n\u001b[1;32m      4\u001b[0m     \u001b[38;5;28mprint\u001b[39m(\u001b[38;5;124m\"\u001b[39m\u001b[38;5;124mThis is a directory \u001b[39m\u001b[38;5;132;01m{0}\u001b[39;00m\u001b[38;5;124m\"\u001b[39m\u001b[38;5;241m.\u001b[39mformat(item))\n",
            "\u001b[0;31mFileNotFoundError\u001b[0m: [Errno 2] No such file or directory: 'sample_data'"
          ]
        }
      ],
      "metadata": {
        "colab": {
          "base_uri": "https://localhost:8080/"
        },
        "id": "a_3KHipCIodd",
        "outputId": "868b1c22-ce7c-46cb-a0dd-c79f9adff3fb"
      }
    },
    {
      "cell_type": "code",
      "execution_count": null,
      "source": [
        "# Looping is easy, but what about state? \n",
        "# here state is captured in a new variable called `important_directories`\n",
        "important_directories = []\n",
        "for item in os.listdir('.'):\n",
        "  if os.path.isdir(item):\n",
        "    important_directories.append(item)\n",
        "print(important_directories)"
      ],
      "outputs": [],
      "metadata": {
        "colab": {
          "base_uri": "https://localhost:8080/"
        },
        "id": "OD0yU3epI8az",
        "outputId": "5001cde7-d6d2-4083-8f1e-7c4bfc170148"
      }
    },
    {
      "cell_type": "code",
      "execution_count": null,
      "source": [
        "os.listdir('.')"
      ],
      "outputs": [],
      "metadata": {
        "colab": {
          "base_uri": "https://localhost:8080/"
        },
        "id": "P16CyGO8hCW3",
        "outputId": "1417e0e1-5bb9-4998-ffa5-ccdeff507405"
      }
    },
    {
      "cell_type": "code",
      "execution_count": null,
      "source": [
        "important_directories = []\n",
        "for item in os.listdir('.'):\n",
        "  if item.startswith('.'):\n",
        "    continue # flow control!\n",
        "  if os.path.isdir(item):\n",
        "    important_directories.append(item)\n",
        "print(important_directories)"
      ],
      "outputs": [],
      "metadata": {
        "colab": {
          "base_uri": "https://localhost:8080/"
        },
        "id": "l583WJSKJUI1",
        "outputId": "f8ba95cd-82b5-4750-a127-4d836d5c11f3"
      }
    },
    {
      "cell_type": "code",
      "execution_count": null,
      "source": [
        "items = ['first', 'second', 'third', 'foo']\n",
        "#items[-1]\n",
        "url = \"https://colab.research.com/drive/asdfjhasdf/alfredo/oreilly\"\n",
        "\n",
        "parts = url.split('/')\n",
        "#print(parts)\n",
        "# Everything except the first three items\n",
        "#print(parts[3:])\n",
        "#protocol, _, fqdn = parts[:3]\n",
        "#print(\"protocol is: %s\" % protocol)\n",
        "#print(fqdn)\n",
        "#company = parts[-1]\n",
        "#print(company)\n",
        "\n",
        "#print(\"The first item is: {0}\".format(items[0]))\n",
        "\n",
        "#items[1]\n",
        "\n",
        "# you can also 'ask' for a given item:\n",
        "items.index('foo')\n",
        "# watchout for `ValueError` though!\n",
        "#items.index('fifth')"
      ],
      "outputs": [],
      "metadata": {
        "colab": {
          "base_uri": "https://localhost:8080/",
          "height": 199
        },
        "id": "r8pAWFJeKK65",
        "outputId": "d43c2966-d9e0-48eb-fa3a-fdd2b4ae9cf6"
      }
    },
    {
      "cell_type": "markdown",
      "source": [
        "## Tuples\n",
        "Should be treated as \"read only\" lists, the differences are subtle!"
      ],
      "metadata": {
        "id": "YYZKBroJK3V7"
      }
    },
    {
      "cell_type": "code",
      "execution_count": null,
      "source": [
        "ro_items = ('first', 'second', 'third')\n",
        "print(\"first item in the tuple is: %s\" % ro_items.index('first'))\n",
        "print(ro_items[-1])\n",
        "for item in ro_items:\n",
        "    print(item)\n"
      ],
      "outputs": [],
      "metadata": {
        "colab": {
          "base_uri": "https://localhost:8080/"
        },
        "id": "lt_3ncfzK_IF",
        "outputId": "e7e19e28-5523-41d3-e755-c4322999a321"
      }
    },
    {
      "cell_type": "code",
      "execution_count": null,
      "source": [
        "# expect an error here, just like a list!\n",
        "ro_items[9]"
      ],
      "outputs": [],
      "metadata": {
        "colab": {
          "base_uri": "https://localhost:8080/",
          "height": 165
        },
        "id": "ETljjCY0LeDP",
        "outputId": "ea1978c6-ee6a-42cf-cc1a-a7830ae7fc40"
      }
    },
    {
      "cell_type": "code",
      "execution_count": null,
      "source": [
        "# same with indexes\n",
        "ro_items.index('fifth')"
      ],
      "outputs": [],
      "metadata": {
        "colab": {
          "base_uri": "https://localhost:8080/",
          "height": 165
        },
        "id": "KcGyN6vfLiSb",
        "outputId": "839de21f-9776-47e0-d5e5-736090b0f928"
      }
    },
    {
      "cell_type": "code",
      "execution_count": null,
      "source": [
        "# find out what methods are available in a tuple\n",
        "for method in dir(tuple()):\n",
        "  if method.startswith('__'):\n",
        "    continue\n",
        "  print(method)\n"
      ],
      "outputs": [],
      "metadata": {
        "colab": {
          "base_uri": "https://localhost:8080/"
        },
        "id": "Gu6zIvL_LnSC",
        "outputId": "ae64d4c1-5414-4cfd-9828-d72c6d734e4e"
      }
    },
    {
      "cell_type": "code",
      "execution_count": null,
      "source": [
        "# tuples are inmmutable\n",
        "ro_items.append('a')"
      ],
      "outputs": [],
      "metadata": {
        "colab": {
          "base_uri": "https://localhost:8080/",
          "height": 165
        },
        "id": "6dVJF3JML6Zt",
        "outputId": "4670e9f7-3dac-4329-da5f-83d30ffde7cc"
      }
    },
    {
      "cell_type": "markdown",
      "source": [
        "## Sets\n",
        "\n",
        "Sets are like lists, they look like dictionaries, but they allow us to keep unique items."
      ],
      "metadata": {}
    },
    {
      "cell_type": "code",
      "execution_count": null,
      "source": [
        "# creating an empty set\n",
        "unique = set()\n",
        "# add items with .add()\n",
        "unique.add(\"one\")\n",
        "unique"
      ],
      "outputs": [],
      "metadata": {}
    },
    {
      "cell_type": "code",
      "execution_count": null,
      "source": [
        "# adding more items works as long as they are unique\n",
        "unique.add(\"one\")\n",
        "unique.add(\"one\")\n",
        "unique.add(\"one\")\n",
        "unique.add(\"two\")\n",
        "print(unique)"
      ],
      "outputs": [],
      "metadata": {}
    },
    {
      "cell_type": "code",
      "execution_count": null,
      "source": [
        "# you can pop items too, like in lists, but it takes no arguments\n",
        "unique.pop()\n",
        "unique"
      ],
      "outputs": [],
      "metadata": {}
    },
    {
      "cell_type": "markdown",
      "source": [
        "## List Comprehensions\n",
        "So easy to abuse!"
      ],
      "metadata": {
        "id": "-ZTQXMB6L_iG"
      }
    },
    {
      "cell_type": "code",
      "execution_count": null,
      "source": [
        "items = ['a', '1', '23', 'b', '4', 'c', 'd']\n",
        "numeric = []\n",
        "for item in items:\n",
        "  if item.isnumeric():\n",
        "    numeric.append(item)\n",
        "print(numeric)"
      ],
      "outputs": [],
      "metadata": {
        "colab": {
          "base_uri": "https://localhost:8080/"
        },
        "id": "W2wlw-fvME1Z",
        "outputId": "a5d77650-a961-4620-cb09-8ad668959e55"
      }
    },
    {
      "cell_type": "code",
      "execution_count": null,
      "source": [
        "# notice the `if` condition at the end, is this more readable? or less?\n",
        "inlined_numeric = [item for item in items if item.isnumeric()]\n",
        "inlined_numeric"
      ],
      "outputs": [],
      "metadata": {
        "colab": {
          "base_uri": "https://localhost:8080/"
        },
        "id": "_M8_lIlbMXqb",
        "outputId": "10aa1353-3668-40d8-9c00-6991ca3c6948"
      }
    },
    {
      "cell_type": "code",
      "execution_count": null,
      "source": [
        "# doubly nested items are usually targetted for list comprehensions\n",
        "items = ['a', '1', '23', 'b', '4', 'c', 'd']\n",
        "nested_items = [items, items]\n",
        "nested_items"
      ],
      "outputs": [],
      "metadata": {
        "colab": {
          "base_uri": "https://localhost:8080/"
        },
        "id": "YIqL91ObX3-t",
        "outputId": "6ffbd02a-2896-4430-a9db-d7b39873c66a"
      }
    },
    {
      "cell_type": "code",
      "execution_count": null,
      "source": [
        "numeric = []\n",
        "for parent in nested_items:\n",
        "    for item in parent:\n",
        "      if item.isnumeric():\n",
        "        numeric.append(item)\n",
        "numeric"
      ],
      "outputs": [],
      "metadata": {
        "colab": {
          "base_uri": "https://localhost:8080/"
        },
        "id": "bDox_MQhYFe7",
        "outputId": "136060e9-05ac-469f-a28e-3ea787f3415d"
      }
    },
    {
      "cell_type": "code",
      "execution_count": null,
      "source": [
        "# and now with list comprehensions\n",
        "numeric = [item for item in parent for parent in nested_items if item.isnumeric()]\n",
        "numeric"
      ],
      "outputs": [],
      "metadata": {
        "colab": {
          "base_uri": "https://localhost:8080/"
        },
        "id": "VHbKq0Q-YerC",
        "outputId": "aa78cd9b-4f1f-4e03-f827-93d204c3ad6b"
      }
    },
    {
      "cell_type": "code",
      "execution_count": null,
      "source": [
        "# this can improve readability\n",
        "numeric = [\n",
        "    item for item in parent\n",
        "        for parent in nested_items\n",
        "            if item.isnumeric()\n",
        "]\n",
        "numeric"
      ],
      "outputs": [],
      "metadata": {
        "colab": {
          "base_uri": "https://localhost:8080/"
        },
        "id": "Maw6k0oGYqh8",
        "outputId": "6043e0ff-ae27-40cd-bc99-b671f3dd0918"
      }
    },
    {
      "cell_type": "markdown",
      "source": [
        "## The awesome dictionary\n",
        "One of my favorite data structures in Python, learning it can yield inmense benefits."
      ],
      "metadata": {
        "id": "jIrg4GTGY0QH"
      }
    },
    {
      "cell_type": "code",
      "execution_count": null,
      "source": [
        "# dictionaries are mappings, usually referred to as key/value mappings\n",
        "contacts = {\n",
        "    'alfredo': '+3 678-677-0000',\n",
        "    'noah': '+3 707-777-9191'\n",
        "}\n",
        "contacts"
      ],
      "outputs": [],
      "metadata": {
        "colab": {
          "base_uri": "https://localhost:8080/"
        },
        "id": "6KnNOhy2Y-b3",
        "outputId": "4b74c36e-7c40-4a56-d081-068031e38439"
      }
    },
    {
      "cell_type": "code",
      "execution_count": null,
      "source": [
        "contacts['noah']"
      ],
      "outputs": [],
      "metadata": {
        "colab": {
          "base_uri": "https://localhost:8080/",
          "height": 36
        },
        "id": "ppPZSljcZE1x",
        "outputId": "99f1a1e0-ecc9-43d5-ce42-505146e6feb2"
      }
    },
    {
      "cell_type": "code",
      "execution_count": null,
      "source": [
        "# you can get keys as list-like objects\n",
        "contacts.keys()"
      ],
      "outputs": [],
      "metadata": {
        "colab": {
          "base_uri": "https://localhost:8080/"
        },
        "id": "dZvickt7ZL5N",
        "outputId": "2e5b2ce7-d461-40d0-df72-e97ba20a57f7"
      }
    },
    {
      "cell_type": "code",
      "execution_count": null,
      "source": [
        "# or you can get the values as well\n",
        "contacts.values()"
      ],
      "outputs": [],
      "metadata": {
        "colab": {
          "base_uri": "https://localhost:8080/"
        },
        "id": "R6nH4qQFZQCR",
        "outputId": "79ce6e13-70ea-4bce-e480-e3b5d1314a63"
      }
    },
    {
      "cell_type": "code",
      "execution_count": null,
      "source": [
        "# looping over dictionaries default to `.keys()` and you can loop over both keys and values\n",
        "for key in contacts:\n",
        "  print(key)\n",
        "for name, phone in contacts.items():\n",
        "  print(\"Key: {0}, Value: {1}\".format(name, phone))\n"
      ],
      "outputs": [],
      "metadata": {
        "colab": {
          "base_uri": "https://localhost:8080/"
        },
        "id": "LTWp2Uh8ZWE0",
        "outputId": "e02c4175-78f5-409e-cd44-29de7211393e"
      }
    },
    {
      "cell_type": "code",
      "execution_count": null,
      "source": [
        "# you should treat dictionaries like a small database, with cheap (and fast!) access\n",
        "contacts['alfredo']\n",
        "contacts['John']"
      ],
      "outputs": [],
      "metadata": {
        "colab": {
          "base_uri": "https://localhost:8080/",
          "height": 199
        },
        "id": "nY7D2AOmZszm",
        "outputId": "f01ecefa-c99d-44c7-b144-335c3360fc35"
      }
    },
    {
      "cell_type": "code",
      "execution_count": null,
      "source": [
        "# super nice way to \"fallback\" when things do not exist\n",
        "print(contacts.get('John', \"Peter\"))\n",
        "try:\n",
        "  contacts['John']\n",
        "except KeyError:\n",
        "  print(\"Peter\")"
      ],
      "outputs": [],
      "metadata": {
        "colab": {
          "base_uri": "https://localhost:8080/"
        },
        "id": "YWgps56BZ4oQ",
        "outputId": "3b338cfd-12e1-42ce-aba9-4e9587ded01e"
      }
    },
    {
      "cell_type": "markdown",
      "source": [
        "## Walking the filesystem, inspecting files\n",
        "Python has built-in utilities to walk the filesystem. It is a bit clunky, and creating something useful requires stitching things together to produce good output\n"
      ],
      "metadata": {
        "id": "2OBe9_jraJE7"
      }
    },
    {
      "cell_type": "code",
      "execution_count": null,
      "source": [
        "import os\n",
        "\n",
        "# yields the 'current' dir, then the directories, and then any files it finds\n",
        "# for each level it traverses\n",
        "for path_info in os.walk('.'):\n",
        "    print(path_info)\n",
        "    break\n"
      ],
      "outputs": [],
      "metadata": {
        "colab": {
          "base_uri": "https://localhost:8080/"
        },
        "id": "ImGHqPgFauSQ",
        "outputId": "0f53bc8e-0187-4727-c377-1fb0571003c5"
      }
    },
    {
      "cell_type": "code",
      "execution_count": null,
      "source": [
        "import os\n",
        "from os.path import abspath, join\n",
        "\n",
        "# producing absolute paths, instead of a tuple of three items\n",
        "for top_dir, directories, files in os.walk('.'):\n",
        "    for directory in directories:\n",
        "        print(abspath(join(top_dir, directory)))\n",
        "    for _file in files:\n",
        "        print(abspath(join(top_dir, _file)))\n",
        "    break\n"
      ],
      "outputs": [],
      "metadata": {
        "colab": {
          "base_uri": "https://localhost:8080/"
        },
        "id": "d5BOj7QGbIXD",
        "outputId": "0d2b944e-d877-4bb9-894c-c7f519e9cce0"
      }
    },
    {
      "cell_type": "code",
      "execution_count": null,
      "source": [
        "# Now that absolute paths are shown, we can inspect them for file metadata\n",
        "\n",
        "import os\n",
        "from os.path import abspath, join, getsize\n",
        "\n",
        "sizes = {}\n",
        "\n",
        "for top_dir, directories, files in os.walk('.'):\n",
        "    for _file in files:\n",
        "        full_path = abspath(join(top_dir, _file))\n",
        "        size = getsize(full_path)\n",
        "        sizes[full_path] = size\n",
        "        #break\n",
        "\n",
        "sorted_results = sorted(sizes, key=sizes.get, reverse=True)\n",
        "\n",
        "for path in sorted_results[:10]:\n",
        "    print(\"Path: {0}, size: {1}\".format(path, sizes[path]))\n"
      ],
      "outputs": [],
      "metadata": {
        "colab": {
          "base_uri": "https://localhost:8080/"
        },
        "id": "uUbYQtDibWTm",
        "outputId": "cc4e4ba1-ab80-4bea-c487-24bebc98b385"
      }
    }
  ],
  "metadata": {
    "colab": {
      "name": "Python-Functions-statements.ipynb",
      "provenance": []
    },
    "kernelspec": {
      "name": "python3",
      "display_name": "Python 3.8.10 64-bit"
    },
    "language_info": {
      "codemirror_mode": {
        "name": "ipython",
        "version": 3
      },
      "file_extension": ".py",
      "mimetype": "text/x-python",
      "name": "python",
      "nbconvert_exporter": "python",
      "pygments_lexer": "ipython3",
      "version": "3.8.10"
    },
    "vscode": {
      "interpreter": {
        "hash": "31f2aee4e71d21fbe5cf8b01ff0e069b9275f58929596ceb00d14d90e3e16cd6"
      }
    },
    "interpreter": {
      "hash": "31f2aee4e71d21fbe5cf8b01ff0e069b9275f58929596ceb00d14d90e3e16cd6"
    }
  },
  "nbformat": 4,
  "nbformat_minor": 2
}